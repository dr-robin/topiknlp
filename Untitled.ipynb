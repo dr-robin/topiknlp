{
 "cells": [
  {
   "cell_type": "code",
   "execution_count": null,
   "id": "ab5c6184",
   "metadata": {},
   "outputs": [],
   "source": [
    "from SimpleAudioIndexer import SimpleAudioIndexer as sai\n",
    "indexer = sai(mode=\"ibm\", src_dir=\"D:/Codes/Python/audio recognition\",      \n",
    "username_ibm=\"\", password_ibm=\"\")\n",
    "indexer.index_audio(basename = \"target.wav\")\n",
    "indexer.save_indexed_audio(\"{}/indexed_audio\".format(indexer.src_dir))\n",
    "indexer.load_indexed_audio(\"{}/indexed_audio.txt\".format(indexer.src_dir))\n",
    "print(indexer.get_timestamps())"
   ]
  }
 ],
 "metadata": {
  "kernelspec": {
   "display_name": "venv",
   "language": "python",
   "name": "venv"
  },
  "language_info": {
   "codemirror_mode": {
    "name": "ipython",
    "version": 3
   },
   "file_extension": ".py",
   "mimetype": "text/x-python",
   "name": "python",
   "nbconvert_exporter": "python",
   "pygments_lexer": "ipython3",
   "version": "3.8.10"
  }
 },
 "nbformat": 4,
 "nbformat_minor": 5
}
